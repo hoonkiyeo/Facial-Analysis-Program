{
 "cells": [
  {
   "cell_type": "code",
   "execution_count": 40,
   "id": "e10646a6",
   "metadata": {},
   "outputs": [],
   "source": [
    "import numpy as np\n",
    "import matplotlib.pyplot as plt\n",
    "from scipy.linalg import eigh\n",
    "import matplotlib\n",
    "%matplotlib inline\n",
    "matplotlib.use('Agg')"
   ]
  },
  {
   "cell_type": "code",
   "execution_count": 41,
   "id": "1e9e50de",
   "metadata": {},
   "outputs": [],
   "source": [
    "def load_and_center_dataset(filename):\n",
    "    x = np.load(filename)\n",
    "    n = len(x)\n",
    "    d = len(x[0])\n",
    "    recenter = x - np.mean(x, axis=0)\n",
    "    return recenter"
   ]
  },
  {
   "cell_type": "code",
   "execution_count": 42,
   "id": "082b6365",
   "metadata": {},
   "outputs": [],
   "source": [
    "x = load_and_center_dataset('YaleB_32x32.npy')"
   ]
  },
  {
   "cell_type": "code",
   "execution_count": 43,
   "id": "f45a05fc",
   "metadata": {},
   "outputs": [],
   "source": [
    "def get_covariance(dataset):\n",
    "    trans_data = np.transpose(dataset)\n",
    "    return (1 / (len(dataset) - 1)) * (trans_data@dataset)\n"
   ]
  },
  {
   "cell_type": "code",
   "execution_count": 44,
   "id": "ec82e994",
   "metadata": {},
   "outputs": [
    {
     "data": {
      "text/plain": [
       "array([[ 4489.89086662,  4389.34792897,  3995.10495964, ...,\n",
       "        -1746.30867941, -1717.96935269, -1747.38102573],\n",
       "       [ 4389.34792897,  4494.33226746,  4121.91863906, ...,\n",
       "        -1806.20485557, -1776.84081736, -1794.5663578 ],\n",
       "       [ 3995.10495964,  4121.91863906,  4165.45776399, ...,\n",
       "        -1715.27680755, -1671.3253095 , -1691.55397407],\n",
       "       ...,\n",
       "       [-1746.30867941, -1806.20485557, -1715.27680755, ...,\n",
       "         3756.33920877,  3586.66741082,  3219.28148259],\n",
       "       [-1717.96935269, -1776.84081736, -1671.3253095 , ...,\n",
       "         3586.66741082,  3596.68436881,  3292.45606665],\n",
       "       [-1747.38102573, -1794.5663578 , -1691.55397407, ...,\n",
       "         3219.28148259,  3292.45606665,  3497.1660824 ]])"
      ]
     },
     "execution_count": 44,
     "metadata": {},
     "output_type": "execute_result"
    }
   ],
   "source": [
    "S = get_covariance(x)\n",
    "S"
   ]
  },
  {
   "cell_type": "code",
   "execution_count": 45,
   "id": "e2586931",
   "metadata": {},
   "outputs": [],
   "source": [
    "def get_eig(S, m):\n",
    "    Lambda, U = eigh(S, subset_by_index = [len(S) - m, len(S) - 1])\n",
    "    return np.diag(Lambda[::-1]), np.fliplr(U)"
   ]
  },
  {
   "cell_type": "code",
   "execution_count": 46,
   "id": "39b7f527",
   "metadata": {},
   "outputs": [
    {
     "data": {
      "text/plain": [
       "array([[-0.01304065, -0.0432441 ],\n",
       "       [-0.01177219, -0.04342345],\n",
       "       [-0.00905278, -0.04095089],\n",
       "       ...,\n",
       "       [ 0.00148631,  0.03622013],\n",
       "       [ 0.00205216,  0.0348093 ],\n",
       "       [ 0.00305951,  0.03330786]])"
      ]
     },
     "execution_count": 46,
     "metadata": {},
     "output_type": "execute_result"
    }
   ],
   "source": [
    "Lambda, U = get_eig(S, 2)\n",
    "U"
   ]
  },
  {
   "cell_type": "code",
   "execution_count": 47,
   "id": "a9abb81d",
   "metadata": {},
   "outputs": [],
   "source": [
    "def get_eig_prop(S, prop):\n",
    "    total_value = sum(eigh(S, eigvals_only = True))\n",
    "    min_val = total_value * prop\n",
    "    Lambda, U = eigh(S, subset_by_value = [min_val, np.inf])\n",
    "    return np.diag(Lambda[::-1]), np.fliplr(U)"
   ]
  },
  {
   "cell_type": "code",
   "execution_count": 48,
   "id": "75c92577",
   "metadata": {},
   "outputs": [],
   "source": [
    "def project_image(image, U):\n",
    "    return (np.transpose(image)@U)@np.transpose(U)\n"
   ]
  },
  {
   "cell_type": "code",
   "execution_count": 49,
   "id": "5b20c2d8",
   "metadata": {},
   "outputs": [
    {
     "data": {
      "text/plain": [
       "array([6.84122225, 4.83901287, 1.41736694, ..., 8.75796534, 7.45916035,\n",
       "       5.4548656 ])"
      ]
     },
     "execution_count": 49,
     "metadata": {},
     "output_type": "execute_result"
    }
   ],
   "source": [
    "projection = project_image(x[0],U)\n",
    "projection"
   ]
  },
  {
   "cell_type": "code",
   "execution_count": 50,
   "id": "26fa5b46",
   "metadata": {},
   "outputs": [],
   "source": [
    "def display_image(orig, proj):\n",
    "    \n",
    "    orig = np.transpose(np.reshape(orig, (32,32)))\n",
    "    proj = np.transpose(np.reshape(proj, (32,32)))\n",
    "    \n",
    "    fig, (ax1,ax2) = plt.subplots(1,2)\n",
    "    ax1.set_title(\"Original\")\n",
    "    ax2.set_title(\"Projection\")\n",
    "    orig_img = ax1.imshow(orig, aspect = \"equal\")\n",
    "    proj_img = ax2.imshow(proj, aspect = \"equal\")\n",
    "    \n",
    "    fig.colorbar(orig_img, ax=ax1)\n",
    "    fig.colorbar(proj_img, ax=ax2)\n",
    "    fig.set_size_inches(10, 3.5)\n",
    "\n",
    "    \n",
    "    plt.savefig(\"output.png\")\n"
   ]
  },
  {
   "cell_type": "code",
   "execution_count": 51,
   "id": "ed7bbd72",
   "metadata": {},
   "outputs": [],
   "source": [
    "def load_and_center_dataset(filename):\n",
    "    x = np.load(filename)\n",
    "    n = len(x)\n",
    "    d = len(x[0])\n",
    "    recenter = x - np.mean(x, axis=0)\n",
    "    return recenter\n",
    "\n",
    "def get_covariance(dataset):\n",
    "    trans_data = np.transpose(dataset)\n",
    "    return (1 / (len(dataset) - 1)) * (trans_data@dataset)\n",
    "\n",
    "def get_eig(S, m):\n",
    "    Lambda, U = eigh(S, subset_by_index = [len(S) - m, len(S) - 1])\n",
    "    return np.diag(Lambda[::-1]), np.fliplr(U)\n",
    "\n",
    "def get_eig_prop(S, prop):\n",
    "    #total sum of eigenvalues\n",
    "    total_value = sum(eigh(S, eigvals_only = True))\n",
    "    #minimum eigenvalue\n",
    "    min_val = total_value * prop\n",
    "    Lambda, U = eigh(S, subset_by_value = [min_val, np.inf])\n",
    "    return np.diag(Lambda[::-1]), np.fliplr(U)\n",
    "    \n",
    "def project_image(image, U):\n",
    "    return (np.transpose(image)@U)@np.transpose(U)\n",
    "\n",
    "def display_image(orig, proj):\n",
    "    orig = np.transpose(np.reshape(orig, (32,32)))\n",
    "    proj = np.transpose(np.reshape(proj, (32,32)))\n",
    "    \n",
    "    fig, (ax1,ax2) = plt.subplots(1,2)\n",
    "    ax1.set_title(\"Original\")\n",
    "    ax2.set_title(\"Projection\")\n",
    "    orig_img = ax1.imshow(orig, aspect = \"equal\")\n",
    "    proj_img = ax2.imshow(proj, aspect = \"equal\")\n",
    "    \n",
    "    #set size of the figures\n",
    "    fig.colorbar(orig_img, ax=ax1)\n",
    "    fig.colorbar(proj_img, ax=ax2)\n",
    "    fig.set_size_inches(10, 3.5)\n",
    "\n",
    "    plt.savefig(\"output.png\")\n"
   ]
  },
  {
   "cell_type": "code",
   "execution_count": 64,
   "id": "4a9cd618",
   "metadata": {},
   "outputs": [],
   "source": [
    "x = load_and_center_dataset('YaleB_32x32.npy')\n",
    "S = get_covariance(x)\n",
    "Lambda, U = get_eig(S, 10)\n",
    "projection = project_image(x[0], U)\n",
    "display_image(x[0], projection)"
   ]
  },
  {
   "cell_type": "code",
   "execution_count": null,
   "id": "0840c306",
   "metadata": {},
   "outputs": [],
   "source": []
  },
  {
   "cell_type": "code",
   "execution_count": null,
   "id": "4c8d56c7",
   "metadata": {},
   "outputs": [],
   "source": []
  },
  {
   "cell_type": "code",
   "execution_count": null,
   "id": "3e736f74",
   "metadata": {},
   "outputs": [],
   "source": []
  },
  {
   "cell_type": "code",
   "execution_count": null,
   "id": "e6980a32",
   "metadata": {},
   "outputs": [],
   "source": []
  }
 ],
 "metadata": {
  "kernelspec": {
   "display_name": "Python 3 (ipykernel)",
   "language": "python",
   "name": "python3"
  },
  "language_info": {
   "codemirror_mode": {
    "name": "ipython",
    "version": 3
   },
   "file_extension": ".py",
   "mimetype": "text/x-python",
   "name": "python",
   "nbconvert_exporter": "python",
   "pygments_lexer": "ipython3",
   "version": "3.10.1"
  }
 },
 "nbformat": 4,
 "nbformat_minor": 5
}
